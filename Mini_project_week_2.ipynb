{
 "cells": [
  {
   "cell_type": "code",
   "execution_count": 34,
   "id": "5d8845da",
   "metadata": {},
   "outputs": [
    {
     "name": "stdout",
     "output_type": "stream",
     "text": [
      "(7045, 23)\n",
      "Date              6089\n",
      "Year               261\n",
      "Type                13\n",
      "Country            247\n",
      "State              937\n",
      "Location          4595\n",
      "Activity          1606\n",
      "Name              5770\n",
      "Sex                 10\n",
      "Age                250\n",
      "Injury            4162\n",
      "Fatal Y/N           12\n",
      "Time               460\n",
      "Species           1724\n",
      "Source            5384\n",
      "pdf               6789\n",
      "href formula      6784\n",
      "href              6776\n",
      "Case Number       6777\n",
      "Case Number.1     6775\n",
      "original order    6797\n",
      "Unnamed: 21          1\n",
      "Unnamed: 22          2\n",
      "dtype: int64\n",
      "['Unprovoked' 'Provoked' 'Questionable' 'unprovoked' ' Provoked'\n",
      " 'Watercraft' 'Sea Disaster' nan '?' 'Unconfirmed' 'Unverified' 'Invalid'\n",
      " 'Under investigation' 'Boat'] \n",
      "\n",
      "Type: 13 unique values\n",
      "Country: 247 unique values\n",
      "State: 937 unique values\n",
      "Activity: 1606 unique values\n",
      "Sex: 10 unique values\n",
      "Age: 250 unique values\n",
      "Fatal Y/N: 12 unique values\n",
      "Species : 1724 unique values\n",
      "Time: 460 unique values\n",
      "-----------------------------------------------------------------------------------\n",
      "['M' 'F' nan 'NaN'] \n",
      "\n",
      "Sex\n",
      "M      5655\n",
      "F       807\n",
      "NaN       4\n",
      "Name: count, dtype: int64\n"
     ]
    }
   ],
   "source": [
    "# %pip install xlrd\n",
    "import pandas as pd\n",
    "import numpy as np\n",
    "\n",
    "df = pd.read_excel(\"/Users/snow/Documents/IRON HACK COURSE/Week 2/Mini Project/GSAF5.xls\")\n",
    "print(df.shape)\n",
    "print(df.nunique())\n",
    "print(df['Type'].unique(), '\\n')\n",
    "# print(df['Sex'].unique(), '\\n')\n",
    "# for element in df['Activity'].unique():\n",
    "#     print(element)\n",
    "\n",
    "df.head()\n",
    "\n",
    "# print(\"The categorical columns are the following:'Type, 'Country', 'State', 'Activity', 'Sex', 'Age', 'Species', 'Time'\")\n",
    "categorical_cols = ['Type', 'Country', 'State', 'Activity', 'Sex', 'Age', 'Fatal Y/N', 'Species ', 'Time']\n",
    "for col in categorical_cols:\n",
    "    print(f\"{col}: {df[col].nunique()} unique values\")\n",
    "print(\"-----------------------------------------------------------------------------------\")\n",
    "df.replace({'Sex': {'F ': 'F', 'M ': 'M', ' M': 'M', 'm': 'M', 'lli': 'NaN', 'M x 2': 'M', 'N': 'NaN', '': 'NaN', '.': 'NaN'}}, inplace=True)\n",
    "print(df['Sex'].unique(), '\\n')\n",
    "print(df['Sex'].value_counts())\n",
    "\n",
    "\n",
    "\n",
    "\n"
   ]
  }
 ],
 "metadata": {
  "kernelspec": {
   "display_name": "Python 3",
   "language": "python",
   "name": "python3"
  },
  "language_info": {
   "codemirror_mode": {
    "name": "ipython",
    "version": 3
   },
   "file_extension": ".py",
   "mimetype": "text/x-python",
   "name": "python",
   "nbconvert_exporter": "python",
   "pygments_lexer": "ipython3",
   "version": "3.9.6"
  }
 },
 "nbformat": 4,
 "nbformat_minor": 5
}
